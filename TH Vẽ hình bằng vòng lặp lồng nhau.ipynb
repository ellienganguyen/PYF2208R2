{
 "cells": [
  {
   "cell_type": "markdown",
   "id": "3a0d556c",
   "metadata": {},
   "source": [
    "# TH Sử dụng vòng lặp lồng nhau để vẽ hình"
   ]
  },
  {
   "cell_type": "code",
   "execution_count": 1,
   "id": "5c393077",
   "metadata": {},
   "outputs": [],
   "source": [
    "import turtle\n",
    "import random\n",
    "\n",
    "wn = turtle.Screen()\n",
    "wn.bgcolor(\"black\")\n",
    "wn.title(\"Star\")\n",
    "\n",
    "myPen = turtle.Turtle()\n",
    "myPen.speed(0)\n",
    "#myPen.color(\"#FF0001\")\n",
    "colors = ['red', 'yellow']\n",
    "\n",
    "for j in range (1,50):\n",
    "    for c in colors:\n",
    "        # color = random.choice(colors)\n",
    "        myPen.color(c)\n",
    "        for i in range (1,6):\n",
    "            myPen.left(144)\n",
    "            myPen.forward(180)\n",
    "        myPen.left(5)\n",
    "\n",
    "turtle.done()"
   ]
  }
 ],
 "metadata": {
  "kernelspec": {
   "display_name": "Python 3 (ipykernel)",
   "language": "python",
   "name": "python3"
  },
  "language_info": {
   "codemirror_mode": {
    "name": "ipython",
    "version": 3
   },
   "file_extension": ".py",
   "mimetype": "text/x-python",
   "name": "python",
   "nbconvert_exporter": "python",
   "pygments_lexer": "ipython3",
   "version": "3.10.7"
  }
 },
 "nbformat": 4,
 "nbformat_minor": 5
}
