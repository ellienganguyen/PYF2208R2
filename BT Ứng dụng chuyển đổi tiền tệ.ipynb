{
 "cells": [
  {
   "cell_type": "code",
   "execution_count": 4,
   "id": "07617968",
   "metadata": {},
   "outputs": [
    {
     "name": "stdout",
     "output_type": "stream",
     "text": [
      "Input the amount of USD: 30\n",
      "30 USD = 750000 VND\n"
     ]
    }
   ],
   "source": [
    "tienUSD = int(input(\"Input the amount of USD: \"))\n",
    "tigiaUSDVND = 25000\n",
    "tienVND = tienUSD * tigiaUSDVND\n",
    "print(tienUSD,\"USD =\",tienVND,\"VND\")"
   ]
  }
 ],
 "metadata": {
  "kernelspec": {
   "display_name": "Python 3 (ipykernel)",
   "language": "python",
   "name": "python3"
  },
  "language_info": {
   "codemirror_mode": {
    "name": "ipython",
    "version": 3
   },
   "file_extension": ".py",
   "mimetype": "text/x-python",
   "name": "python",
   "nbconvert_exporter": "python",
   "pygments_lexer": "ipython3",
   "version": "3.10.7"
  }
 },
 "nbformat": 4,
 "nbformat_minor": 5
}
