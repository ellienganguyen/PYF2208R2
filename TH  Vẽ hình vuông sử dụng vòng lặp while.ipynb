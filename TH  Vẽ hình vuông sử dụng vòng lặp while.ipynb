{
 "cells": [
  {
   "cell_type": "code",
   "execution_count": 1,
   "id": "8a45f105",
   "metadata": {},
   "outputs": [
    {
     "name": "stdout",
     "output_type": "stream",
     "text": [
      "Nhập độ dài các cạnh của hình vuông: 60\n"
     ]
    }
   ],
   "source": [
    "import turtle\n",
    "\n",
    "pen = turtle.Turtle()\n",
    "pen.hideturtle()\n",
    "pen.pencolor(\"green\")\n",
    "pen.pensize(5)\n",
    "\n",
    "times = 0\n",
    "a = int(input(\"Nhập độ dài các cạnh của hình vuông: \"))\n",
    "\n",
    "pen.fillcolor(\"red\")\n",
    "pen.begin_fill()\n",
    "while times < 4:\n",
    "    pen.forward(50)\n",
    "    pen.right(90)\n",
    "    times += 1\n",
    "pen.end_fill()\n",
    "\n",
    "turtle.done()"
   ]
  }
 ],
 "metadata": {
  "kernelspec": {
   "display_name": "Python 3 (ipykernel)",
   "language": "python",
   "name": "python3"
  },
  "language_info": {
   "codemirror_mode": {
    "name": "ipython",
    "version": 3
   },
   "file_extension": ".py",
   "mimetype": "text/x-python",
   "name": "python",
   "nbconvert_exporter": "python",
   "pygments_lexer": "ipython3",
   "version": "3.10.7"
  }
 },
 "nbformat": 4,
 "nbformat_minor": 5
}
