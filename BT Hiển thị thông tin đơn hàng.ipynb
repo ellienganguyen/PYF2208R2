{
 "cells": [
  {
   "cell_type": "markdown",
   "id": "31c8c0aa",
   "metadata": {},
   "source": [
    "Viết chương trình hỏi người dùng đã chi bao nhiêu tiền tại cửa hàng.\n",
    "\n",
    "Nếu họ chi ít hơn 75$, họ sẽ không được giảm giá.\n",
    "\n",
    "Nếu họ chi 75$ trở lên, họ sẽ được giảm giá 15$.\n",
    "\n",
    "Nếu người dùng chi từ 100$ trở lên, họ sẽ được giảm giá 25$.\n",
    "\n",
    "Nếu người dùng chi từ 150$ trở lên, họ sẽ được giảm giá 50$.\n",
    "Sau đó in ra tổng số tiền mà người dùng phải thanh toán."
   ]
  },
  {
   "cell_type": "code",
   "execution_count": 6,
   "id": "536c0410",
   "metadata": {},
   "outputs": [
    {
     "name": "stdout",
     "output_type": "stream",
     "text": [
      "How much did you pay? 80\n",
      "Discount 15%\n",
      "Your bill is: 68.0\n"
     ]
    }
   ],
   "source": [
    "amount = int(input(\"How much did you pay? \"))\n",
    "\n",
    "if amount < 75:\n",
    "    print(f\"Your bill is: {amount}\")\n",
    "elif amount > 150:\n",
    "    print(f\"Discount 50%\")\n",
    "    print(f\"Your bill is: {amount * 0.5}\")\n",
    "elif amount > 100:\n",
    "    print(f\"Discount 25%\")\n",
    "    print(f\"Your bill is: {amount * 0.75}\")\n",
    "else:\n",
    "    print(f\"Discount 15%\")\n",
    "    print(f\"Your bill is: {amount * 0.85}\")"
   ]
  }
 ],
 "metadata": {
  "kernelspec": {
   "display_name": "Python 3 (ipykernel)",
   "language": "python",
   "name": "python3"
  },
  "language_info": {
   "codemirror_mode": {
    "name": "ipython",
    "version": 3
   },
   "file_extension": ".py",
   "mimetype": "text/x-python",
   "name": "python",
   "nbconvert_exporter": "python",
   "pygments_lexer": "ipython3",
   "version": "3.10.7"
  }
 },
 "nbformat": 4,
 "nbformat_minor": 5
}
