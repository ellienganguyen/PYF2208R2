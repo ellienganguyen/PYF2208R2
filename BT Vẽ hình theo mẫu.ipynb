{
 "cells": [
  {
   "cell_type": "code",
   "execution_count": 1,
   "id": "32360532",
   "metadata": {},
   "outputs": [],
   "source": [
    "# Vẽ hình elipse\n",
    "import turtle as t\n",
    "\n",
    "x = 0\n",
    "colors = ['purple', 'blue', 'green', 'orange', 'red', 'yellow']\n",
    "t.pensize(2)\n",
    "t.bgcolor('black')\n",
    "t.speed(50)\n",
    "while x < 6:\n",
    "    for c in colors:   \n",
    "        t.color(c)\n",
    "        i = 0\n",
    "        while i < 2:\n",
    "            t.circle(50, 90)\n",
    "            t.circle(100, 90)\n",
    "            i += 1\n",
    "        t.right(10)\n",
    "    x += 1\n",
    "t.done()"
   ]
  }
 ],
 "metadata": {
  "kernelspec": {
   "display_name": "Python 3 (ipykernel)",
   "language": "python",
   "name": "python3"
  },
  "language_info": {
   "codemirror_mode": {
    "name": "ipython",
    "version": 3
   },
   "file_extension": ".py",
   "mimetype": "text/x-python",
   "name": "python",
   "nbconvert_exporter": "python",
   "pygments_lexer": "ipython3",
   "version": "3.10.7"
  }
 },
 "nbformat": 4,
 "nbformat_minor": 5
}
