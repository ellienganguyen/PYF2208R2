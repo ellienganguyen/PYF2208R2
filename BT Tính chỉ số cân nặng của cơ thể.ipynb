{
 "cells": [
  {
   "cell_type": "markdown",
   "id": "ccb31bef",
   "metadata": {},
   "source": [
    "Viết chương trình cho người dùng nhập cân nặng và chiều cao của mình. Sau đó hãy in ra chỉ số BMI (Body mass index), và tình trạng cơ thể của họ dựa theo công thức và bảng giá trị sau:\n",
    "\n",
    "BMI = cân nặng / (chiều cao ^ 2)\n",
    "\n",
    "Trong đó cân nặng tính bằng kg và chiều cao tính bằng m\n",
    "\n",
    "Chỉ số BMI đối với người trên 20 tuổi được phân loại và diễn giải theo bảng sau:\n",
    "\n",
    "BMI < 16: Gầy cấp độ III\n",
    "16 <= BMI < 17:  Gầy cấp độ II\n",
    "17<= BMI < 18.5: Gầy cấp độ I\n",
    "18.5 <= BMI < 25: Bình thường\n",
    "25 <= BMI < 30: Thừa cân\n",
    "30 <= BMI < 35 : Béo phì cấp độ I\n",
    "35 <= BMI < 40: Béo phì cấp độ II\n",
    "BMI > 40: Béo phì cấp độ III"
   ]
  },
  {
   "cell_type": "code",
   "execution_count": 9,
   "id": "d6524757",
   "metadata": {},
   "outputs": [
    {
     "name": "stdout",
     "output_type": "stream",
     "text": [
      "Please input your height: 164\n",
      "Please input your weight: 95\n",
      "Skinny level 3\n"
     ]
    }
   ],
   "source": [
    "chieu_cao = int(input(\"Please input your height: \"))\n",
    "can_nang = int(input(\"Please input your weight: \"))\n",
    "\n",
    "BMI = can_nang / ((chieu_cao/100) ** 2) / 100)\n",
    "\n",
    "if BMI < 16:\n",
    "    print(\"Skinny level 3\")\n",
    "elif BMI < 17:\n",
    "    print(\"Skinny level 2\")\n",
    "elif BMI < 18.5:\n",
    "    print(\"Skinny level 1\")\n",
    "elif BMI < 25:\n",
    "    print(\"Normal\")\n",
    "elif BMI < 30:\n",
    "    print(\"Overweight\")\n",
    "elif BMI < 35:\n",
    "    print(\"Fat level 1\")\n",
    "elif BMI < 40:\n",
    "    print(\"Fat level 2\")\n",
    "else: \n",
    "    print(\"Fat level 3\")"
   ]
  }
 ],
 "metadata": {
  "kernelspec": {
   "display_name": "Python 3 (ipykernel)",
   "language": "python",
   "name": "python3"
  },
  "language_info": {
   "codemirror_mode": {
    "name": "ipython",
    "version": 3
   },
   "file_extension": ".py",
   "mimetype": "text/x-python",
   "name": "python",
   "nbconvert_exporter": "python",
   "pygments_lexer": "ipython3",
   "version": "3.10.7"
  }
 },
 "nbformat": 4,
 "nbformat_minor": 5
}
