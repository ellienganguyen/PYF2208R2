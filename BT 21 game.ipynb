{
 "cells": [
  {
   "cell_type": "code",
   "execution_count": 1,
   "id": "70a46270",
   "metadata": {},
   "outputs": [
    {
     "name": "stdout",
     "output_type": "stream",
     "text": [
      "Computer choice (1, 2, 3): 3\n",
      "@ Game is 3\n",
      "Human choice (1, 2, 3): 3\n",
      "@ Game is 6 ### 21 is so far ###\n",
      "Computer choice (1, 2, 3): 3\n",
      "@ Game is 9\n",
      "Computer choice (1, 2, 3): 1\n",
      "@ Game is 10\n",
      "Human choice (1, 2, 3): 3\n",
      "@ Game is 13 ### 21 is so far ###\n",
      "Computer choice (1, 2, 3): 2\n",
      "@ Game is 15\n",
      "Human choice (1, 2, 3): 2\n",
      "@ Game is 17 ### Be careful! 21 is so close ###\n",
      "Computer choice (1, 2, 3): 1\n",
      "@ Game is 18\n",
      "Human choice (1, 2, 3): 2\n",
      "@ Game is 20 ### Be careful! 21 is so close ###\n",
      "Human choice (1, 2, 3): 1\n",
      "-----------The computer WIN---------------\n",
      "******************************************\n",
      "Do you want play again? Y/N: n\n"
     ]
    }
   ],
   "source": [
    "import random\n",
    "\n",
    "def count_game():\n",
    "    count_number = 0\n",
    "    choice = 0\n",
    "    while count_number < 21:\n",
    "        current_player = random.randint(0,1)\n",
    "        if current_player == 0:\n",
    "            choice = int(input('Human choice (1, 2, 3): '))\n",
    "            while choice not in [1,2,3]:\n",
    "                choice = int(input('Please input valid number 1, 2, 3:  '))\n",
    "            count_number += choice\n",
    "            if count_number < 15:\n",
    "                print(f'@ Game is {count_number} ### 21 is so far ###')\n",
    "            elif count_number < 21:\n",
    "                print(f'@ Game is {count_number} ### Be careful! 21 is so close ###')\n",
    "            elif count_number >= 21:\n",
    "                print(\"-----------The computer WIN---------------\")\n",
    "                print(\"******************************************\")\n",
    "        else:\n",
    "            choice = random.randint(1,3)\n",
    "            print(f'Computer choice (1, 2, 3): {choice}')\n",
    "            count_number += choice\n",
    "            print(f'@ Game is {count_number}')\n",
    "            if count_number >= 21:\n",
    "                print(\"-------Good choice. The human WIN----------\")\n",
    "                print(\"*******************************************\")\n",
    "    \n",
    "play = True\n",
    "while play == True: \n",
    "    count_game()\n",
    "    check = input(\"Do you want play again? Y/N: \")\n",
    "    if check == \"Y\" or check == \"y\":\n",
    "        continue\n",
    "    else: \n",
    "        break"
   ]
  }
 ],
 "metadata": {
  "kernelspec": {
   "display_name": "Python 3 (ipykernel)",
   "language": "python",
   "name": "python3"
  },
  "language_info": {
   "codemirror_mode": {
    "name": "ipython",
    "version": 3
   },
   "file_extension": ".py",
   "mimetype": "text/x-python",
   "name": "python",
   "nbconvert_exporter": "python",
   "pygments_lexer": "ipython3",
   "version": "3.10.7"
  }
 },
 "nbformat": 4,
 "nbformat_minor": 5
}
