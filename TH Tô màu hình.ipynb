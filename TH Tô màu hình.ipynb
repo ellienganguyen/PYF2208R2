{
 "cells": [
  {
   "cell_type": "markdown",
   "id": "f57df412",
   "metadata": {},
   "source": [
    "# [Thực hành] Tô màu hình\n",
    "## Mô tả bài toán\n",
    "Lấy một số ngẫu nhiên kiểu float từ 0 đến 3, sau đó chuyển về kiểu int. Dựa vào số vừa chuyển, in ra hình tròn với màu sắc tương ứng như sau:\n",
    "\n",
    "Bé hơn 1 ⇒ màu xanh\n",
    "Bé hơn 2 ⇒  màu vàng\n",
    "Bé hơn 3 ⇒  màu đỏ\n"
   ]
  },
  {
   "cell_type": "code",
   "execution_count": 1,
   "id": "92e6cc6e",
   "metadata": {},
   "outputs": [],
   "source": [
    "# 2nd code\n",
    "import turtle\n",
    "import random\n",
    "\n",
    "number = random.uniform(0, 3)\n",
    "intNumber = int(number)\n",
    " \n",
    "wn = turtle.Screen()\n",
    "wn.bgcolor(\"black\")\n",
    "wn.title(\"Circle\")\n",
    " \n",
    "pen = turtle.Turtle()\n",
    "#ball.shape('circle')\n",
    " \n",
    "if intNumber < 1:\n",
    "    pen.color('green')\n",
    "    pen.begin_fill()\n",
    "    pen.circle(30)\n",
    "    pen.end_fill()\n",
    "elif intNumber < 2:\n",
    "    ball.color('yellow')\n",
    "    pen.begin_fill()\n",
    "    pen.circle(30)\n",
    "    pen.end_fill()\n",
    "elif intNumber < 3:\n",
    "    pen.color('red')\n",
    "    pen.begin_fill()\n",
    "    pen.circle(30)\n",
    "    pen.end_fill()\n",
    "turtle.done()"
   ]
  },
  {
   "cell_type": "code",
   "execution_count": null,
   "id": "9cc1271f",
   "metadata": {},
   "outputs": [],
   "source": [
    "number = random.uniform(0, 3)\n",
    "intNumber = int(number)\n",
    " \n",
    "wn = turtle.Screen()\n",
    "wn.bgcolor(\"black\")\n",
    "wn.title(\"Circle\")\n",
    " \n",
    "ball = turtle.Turtle()\n",
    "ball.shape('circle')\n",
    " \n",
    "if intNumber < 1:\n",
    "    ball.color('green')\n",
    "elif intNumber < 2:\n",
    "    ball.color('yellow')\n",
    "elif intNumber < 3:\n",
    "    ball.color('red')\n",
    "turtle.done()"
   ]
  }
 ],
 "metadata": {
  "kernelspec": {
   "display_name": "Python 3 (ipykernel)",
   "language": "python",
   "name": "python3"
  },
  "language_info": {
   "codemirror_mode": {
    "name": "ipython",
    "version": 3
   },
   "file_extension": ".py",
   "mimetype": "text/x-python",
   "name": "python",
   "nbconvert_exporter": "python",
   "pygments_lexer": "ipython3",
   "version": "3.10.7"
  }
 },
 "nbformat": 4,
 "nbformat_minor": 5
}
