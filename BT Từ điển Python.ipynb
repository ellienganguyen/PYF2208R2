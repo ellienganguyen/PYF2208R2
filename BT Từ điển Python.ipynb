{
 "cells": [
  {
   "cell_type": "code",
   "execution_count": 8,
   "id": "ffd00857",
   "metadata": {},
   "outputs": [
    {
     "name": "stdout",
     "output_type": "stream",
     "text": [
      "Please input the word:two\n",
      "two : hai\n"
     ]
    }
   ],
   "source": [
    "Eng_Vni_Dict = {\n",
    "    \"one\" : \"một\",\n",
    "    \"two\" : \"hai\",\n",
    "    \"three\" : \"ba\",\n",
    "    \"four\" : \"bốn\",\n",
    "    \"five\" : \"năm\",\n",
    "    \"six\" : \"sáu\",\n",
    "    \"seven\" : \"bảy\",\n",
    "    \"eight\" : \"tám\",\n",
    "    \"nine\" : \"chín\",\n",
    "    \"ten\" : \"mười\"\n",
    "}\n",
    "def find_word(Dict_db, input_word):\n",
    "    check = False\n",
    "    for i in Dict_db:\n",
    "        if input_word == i:\n",
    "            print(i, \":\", Dict_db[i])\n",
    "            check = True\n",
    "    if not check :\n",
    "        print(\"There is no result in Dictionary\")\n",
    "word = str(input(\"Please input the word:\"))\n",
    "find_word(Eng_Vni_Dict, word)"
   ]
  }
 ],
 "metadata": {
  "kernelspec": {
   "display_name": "Python 3 (ipykernel)",
   "language": "python",
   "name": "python3"
  },
  "language_info": {
   "codemirror_mode": {
    "name": "ipython",
    "version": 3
   },
   "file_extension": ".py",
   "mimetype": "text/x-python",
   "name": "python",
   "nbconvert_exporter": "python",
   "pygments_lexer": "ipython3",
   "version": "3.10.7"
  }
 },
 "nbformat": 4,
 "nbformat_minor": 5
}
