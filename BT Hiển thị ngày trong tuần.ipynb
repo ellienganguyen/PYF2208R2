{
 "cells": [
  {
   "cell_type": "markdown",
   "id": "635da753",
   "metadata": {},
   "source": [
    "Viết chương trình yêu cầu người dùng nhập một số trong phạm vi từ 1 đến 7. Sau đó hãy in ra ngày tương ứng: \n",
    "\n",
    "1: Monday\n",
    "\n",
    "2: Tuesday\n",
    "\n",
    "3: Wednesday\n",
    "\n",
    "4: Thursday\n",
    "\n",
    "5: Friday\n",
    "\n",
    "6: Saturday\n",
    "\n",
    "7: Sunday\n",
    "\n",
    "Nếu người dùng nhập số ngoài phạm vi từ 1 đến 7 thì hãy in ra “error, out of range”."
   ]
  },
  {
   "cell_type": "code",
   "execution_count": 2,
   "id": "8822ea21",
   "metadata": {},
   "outputs": [
    {
     "name": "stdout",
     "output_type": "stream",
     "text": [
      "Give me a number (form 2 to 8): 8\n",
      "Sunday\n"
     ]
    }
   ],
   "source": [
    "num = int(input(\"Give me a number (form 2 to 8): \"))\n",
    "if num == 2:\n",
    "    print(\"Monday\")\n",
    "elif num == 3:\n",
    "    print(\"Tuesday\")\n",
    "elif num == 4:\n",
    "    print(\"Wednesday\")\n",
    "elif num == 5:\n",
    "    print(\"Thursday\")\n",
    "elif num == 6:\n",
    "    print(\"Friday\")\n",
    "elif num == 7:\n",
    "    print(\"Saturday\")\n",
    "elif num == 8:\n",
    "    print(\"Sunday\")\n",
    "else:\n",
    "    print(\"Error, out of range\")"
   ]
  }
 ],
 "metadata": {
  "kernelspec": {
   "display_name": "Python 3 (ipykernel)",
   "language": "python",
   "name": "python3"
  },
  "language_info": {
   "codemirror_mode": {
    "name": "ipython",
    "version": 3
   },
   "file_extension": ".py",
   "mimetype": "text/x-python",
   "name": "python",
   "nbconvert_exporter": "python",
   "pygments_lexer": "ipython3",
   "version": "3.10.7"
  }
 },
 "nbformat": 4,
 "nbformat_minor": 5
}
