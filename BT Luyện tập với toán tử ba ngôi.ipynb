{
 "cells": [
  {
   "cell_type": "markdown",
   "id": "7e806b0f",
   "metadata": {},
   "source": [
    "Kiểm tra số nhập vào là số chẳn hoặc lẻ, sử dụng toán tử điều kiện ba ngôi"
   ]
  },
  {
   "cell_type": "code",
   "execution_count": 3,
   "id": "4f70d5ff",
   "metadata": {},
   "outputs": [
    {
     "name": "stdout",
     "output_type": "stream",
     "text": [
      "Input number:5\n",
      "Odd\n",
      "Odd\n"
     ]
    }
   ],
   "source": [
    "num_check = int(input(\"Input number:\"))\n",
    "\n",
    "# USING TERNARY OPERATOR\n",
    "msg = \"Even\" if num_check %2 == 0 else \"Odd\"\n",
    "print(msg)\n",
    "\n",
    "# USING USUAL IF-ELSE\n",
    "msg = \"\"\n",
    "if(num_check%2  == 0):\n",
    "    msg = \"Even\"\n",
    "else:\n",
    "    msg = \"Odd\"\n",
    "print(msg)"
   ]
  }
 ],
 "metadata": {
  "kernelspec": {
   "display_name": "Python 3 (ipykernel)",
   "language": "python",
   "name": "python3"
  },
  "language_info": {
   "codemirror_mode": {
    "name": "ipython",
    "version": 3
   },
   "file_extension": ".py",
   "mimetype": "text/x-python",
   "name": "python",
   "nbconvert_exporter": "python",
   "pygments_lexer": "ipython3",
   "version": "3.10.7"
  }
 },
 "nbformat": 4,
 "nbformat_minor": 5
}
