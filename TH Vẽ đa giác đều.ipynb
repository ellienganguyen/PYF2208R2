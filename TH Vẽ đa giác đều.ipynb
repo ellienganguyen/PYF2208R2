{
 "cells": [
  {
   "cell_type": "code",
   "execution_count": 1,
   "id": "8d2b5c49",
   "metadata": {},
   "outputs": [],
   "source": [
    "import turtle\n",
    "\n",
    "t = turtle.Turtle()\n",
    "t.hideturtle()\n",
    "t.pencolor('blue')\n",
    "\n",
    "def draw(n, w=100):\n",
    "    # n = Số cạnh của đa giác đều\n",
    "    # w = chiều dài của các cạnh\n",
    "    angle = (n - 2) * 180 / n\n",
    "    for i in range(n):\n",
    "        t.forward(w)\n",
    "        t.right(180 - angle)\n",
    "    turtle.done()\n",
    "    \n",
    "draw(8, 100)"
   ]
  }
 ],
 "metadata": {
  "kernelspec": {
   "display_name": "Python 3 (ipykernel)",
   "language": "python",
   "name": "python3"
  },
  "language_info": {
   "codemirror_mode": {
    "name": "ipython",
    "version": 3
   },
   "file_extension": ".py",
   "mimetype": "text/x-python",
   "name": "python",
   "nbconvert_exporter": "python",
   "pygments_lexer": "ipython3",
   "version": "3.10.7"
  }
 },
 "nbformat": 4,
 "nbformat_minor": 5
}
